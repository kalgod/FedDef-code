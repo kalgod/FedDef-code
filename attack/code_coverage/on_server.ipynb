{
 "cells": [
  {
   "cell_type": "code",
   "execution_count": 1,
   "id": "b108498a",
   "metadata": {},
   "outputs": [],
   "source": [
    "from test_atks import test_atks_on_cifar10\n",
    "from test_import import test_import_version"
   ]
  },
  {
   "cell_type": "code",
   "execution_count": 2,
   "id": "3d08de15",
   "metadata": {},
   "outputs": [
    {
     "name": "stdout",
     "output_type": "stream",
     "text": [
      "3.4.1\n"
     ]
    }
   ],
   "source": [
    "test_import_version()"
   ]
  },
  {
   "cell_type": "code",
   "execution_count": 3,
   "id": "2fd7a267",
   "metadata": {},
   "outputs": [],
   "source": [
    "import torchattacks"
   ]
  },
  {
   "cell_type": "code",
   "execution_count": 4,
   "id": "aea26465",
   "metadata": {
    "scrolled": false
   },
   "outputs": [
    {
     "name": "stdout",
     "output_type": "stream",
     "text": [
      "Files already downloaded and verified\n",
      "VANILA      : clean_acc=1.00 robust_acc=1.00 sec=0.00\n",
      "GN          : clean_acc=1.00 robust_acc=0.20 sec=0.00\n",
      "FGSM        : clean_acc=1.00 robust_acc=0.40 sec=0.04\n",
      "- targeted  : clean_acc=1.00 robust_acc=0.40 sec=0.04\n",
      "BIM         : clean_acc=1.00 robust_acc=0.00 sec=0.07\n",
      "- targeted  : clean_acc=1.00 robust_acc=0.00 sec=0.07\n",
      "RFGSM       : clean_acc=1.00 robust_acc=0.00 sec=0.06\n",
      "- targeted  : clean_acc=1.00 robust_acc=0.00 sec=0.06\n",
      "PGD         : clean_acc=1.00 robust_acc=0.00 sec=0.06\n",
      "- targeted  : clean_acc=1.00 robust_acc=0.00 sec=0.06\n",
      "EOTPGD      : clean_acc=1.00 robust_acc=0.00 sec=0.55\n",
      "- targeted  : clean_acc=1.00 robust_acc=0.00 sec=0.55\n",
      "FFGSM       : clean_acc=1.00 robust_acc=0.40 sec=0.02\n",
      "- targeted  : clean_acc=1.00 robust_acc=0.20 sec=0.02\n",
      "TPGD        : clean_acc=1.00 robust_acc=0.60 sec=0.08\n",
      "MIFGSM      : clean_acc=1.00 robust_acc=0.00 sec=0.07\n",
      "- targeted  : clean_acc=1.00 robust_acc=0.00 sec=0.07\n",
      "UPGD        : clean_acc=1.00 robust_acc=0.00 sec=0.07\n",
      "- targeted  : clean_acc=1.00 robust_acc=0.00 sec=0.07\n",
      "APGD        : clean_acc=1.00 robust_acc=0.00 sec=0.70\n",
      "APGDT       : clean_acc=1.00 robust_acc=0.00 sec=2.00\n",
      "DIFGSM      : clean_acc=1.00 robust_acc=0.00 sec=0.06\n",
      "- targeted  : clean_acc=1.00 robust_acc=0.00 sec=0.06\n",
      "TIFGSM      : clean_acc=1.00 robust_acc=0.20 sec=0.06\n",
      "- targeted  : clean_acc=1.00 robust_acc=0.20 sec=0.06\n",
      "Jitter      : clean_acc=1.00 robust_acc=0.00 sec=0.48\n",
      "- targeted  : clean_acc=1.00 robust_acc=0.40 sec=0.48\n",
      "NIFGSM      : clean_acc=1.00 robust_acc=0.00 sec=0.07\n",
      "- targeted  : clean_acc=1.00 robust_acc=0.00 sec=0.07\n",
      "PGDRS       : clean_acc=1.00 robust_acc=0.80 sec=2.47\n",
      "- targeted  : clean_acc=1.00 robust_acc=0.80 sec=2.47\n",
      "SINIFGSM    : clean_acc=1.00 robust_acc=0.00 sec=1.92\n",
      "- targeted  : clean_acc=1.00 robust_acc=0.00 sec=1.92\n",
      "VMIFGSM     : clean_acc=1.00 robust_acc=0.00 sec=2.27\n",
      "- targeted  : clean_acc=1.00 robust_acc=0.00 sec=2.27\n",
      "VNIFGSM     : clean_acc=1.00 robust_acc=0.00 sec=2.22\n",
      "- targeted  : clean_acc=1.00 robust_acc=0.00 sec=2.22\n",
      "SPSA        : clean_acc=1.00 robust_acc=0.40 sec=2.40\n",
      "- targeted  : clean_acc=1.00 robust_acc=1.00 sec=2.40\n",
      "JSMA        : clean_acc=1.00 robust_acc=0.00 sec=45.45\n",
      "- targeted  : clean_acc=1.00 robust_acc=0.00 sec=45.45\n",
      "EADL1       : clean_acc=1.00 robust_acc=0.00 sec=9.81\n",
      "- targeted  : clean_acc=1.00 robust_acc=1.00 sec=9.81\n",
      "EADEN       : clean_acc=1.00 robust_acc=0.00 sec=9.37\n",
      "- targeted  : clean_acc=1.00 robust_acc=1.00 sec=9.37\n",
      "CW          : clean_acc=1.00 robust_acc=0.00 sec=0.55\n",
      "- targeted  : clean_acc=1.00 robust_acc=0.00 sec=0.55\n",
      "PGDL2       : clean_acc=1.00 robust_acc=0.00 sec=0.08\n",
      "- targeted  : clean_acc=1.00 robust_acc=0.00 sec=0.08\n",
      "DeepFool    : clean_acc=1.00 robust_acc=0.20 sec=5.24\n",
      "PGDRSL2     : clean_acc=1.00 robust_acc=0.80 sec=1.16\n",
      "- targeted  : clean_acc=1.00 robust_acc=1.00 sec=1.16\n",
      "SparseFool  : clean_acc=1.00 robust_acc=0.60 sec=48.60\n",
      "OnePixel    : clean_acc=1.00 robust_acc=0.80 sec=1.90\n",
      "- targeted  : clean_acc=1.00 robust_acc=0.80 sec=1.90\n",
      "Pixle       : clean_acc=1.00 robust_acc=0.00 sec=2.57\n",
      "- targeted  : clean_acc=1.00 robust_acc=0.20 sec=2.57\n",
      "FAB         : clean_acc=1.00 robust_acc=0.00 sec=5.26\n",
      "- targeted  : clean_acc=1.00 robust_acc=0.00 sec=5.26\n",
      "AutoAttack  : clean_acc=1.00 robust_acc=0.00 sec=1.12\n",
      "Square      : clean_acc=1.00 robust_acc=0.00 sec=21.95\n",
      "- targeted  : clean_acc=1.00 robust_acc=0.00 sec=21.95\n"
     ]
    }
   ],
   "source": [
    "for atk_class in [atk_class for atk_class in torchattacks.__all__ if atk_class not in torchattacks.__wrapper__]:\n",
    "    test_atks_on_cifar10(atk_class=atk_class,\n",
    "                         device='cuda',\n",
    "                         model_dir='../demo/models/',\n",
    "                         data_dir='../demo/data/')"
   ]
  },
  {
   "cell_type": "code",
   "execution_count": null,
   "id": "086977ef",
   "metadata": {},
   "outputs": [],
   "source": []
  }
 ],
 "metadata": {
  "kernelspec": {
   "display_name": "Python 3",
   "language": "python",
   "name": "python3"
  },
  "language_info": {
   "codemirror_mode": {
    "name": "ipython",
    "version": 3
   },
   "file_extension": ".py",
   "mimetype": "text/x-python",
   "name": "python",
   "nbconvert_exporter": "python",
   "pygments_lexer": "ipython3",
   "version": "3.8.8"
  }
 },
 "nbformat": 4,
 "nbformat_minor": 5
}
